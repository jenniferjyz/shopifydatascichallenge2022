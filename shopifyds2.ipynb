{
  "nbformat": 4,
  "nbformat_minor": 0,
  "metadata": {
    "colab": {
      "name": "Untitled0.ipynb",
      "provenance": []
    },
    "kernelspec": {
      "name": "python3",
      "display_name": "Python 3"
    },
    "language_info": {
      "name": "python"
    }
  },
  "cells": [
    {
      "cell_type": "code",
      "execution_count": 1,
      "metadata": {
        "colab": {
          "base_uri": "https://localhost:8080/",
          "height": 132
        },
        "id": "Q7JC2wglXpYk",
        "outputId": "218ad255-d574-4262-a0b9-d28134508387"
      },
      "outputs": [
        {
          "output_type": "error",
          "ename": "SyntaxError",
          "evalue": "ignored",
          "traceback": [
            "\u001b[0;36m  File \u001b[0;32m\"<ipython-input-1-f1aa1ae7f549>\"\u001b[0;36m, line \u001b[0;32m6\u001b[0m\n\u001b[0;31m    ```python\u001b[0m\n\u001b[0m    ^\u001b[0m\n\u001b[0;31mSyntaxError\u001b[0m\u001b[0;31m:\u001b[0m invalid syntax\n"
          ]
        }
      ],
      "source": [
        ""
      ]
    },
    {
      "cell_type": "markdown",
      "source": [
        "# Question 2\n",
        "\n",
        "a. How many orders were shipped by Speedy Express in total?"
      ],
      "metadata": {
        "id": "ckyJwjotXvrt"
      }
    },
    {
      "cell_type": "code",
      "source": [
        "CREATE VIEW Shipper_Orders AS\n",
        "SELECT Orders.OrderID, Orders.ShipperID, Shippers.ShipperName\n",
        "FROM Orders \n",
        "JOIN Shippers\n",
        "ON Shippers.ShipperID=Orders.ShipperID;\n",
        "SELECT COUNT(*) FROM [Shipper_Orders]\n",
        "WHERE ShipperName = 'Speedy Express';"
      ],
      "metadata": {
        "colab": {
          "base_uri": "https://localhost:8080/",
          "height": 132
        },
        "id": "3oYBO-bbXz1W",
        "outputId": "3214bdd3-20bb-485a-88fe-b81287ec461f"
      },
      "execution_count": 2,
      "outputs": [
        {
          "output_type": "error",
          "ename": "SyntaxError",
          "evalue": "ignored",
          "traceback": [
            "\u001b[0;36m  File \u001b[0;32m\"<ipython-input-2-dc744e7aec75>\"\u001b[0;36m, line \u001b[0;32m1\u001b[0m\n\u001b[0;31m    CREATE VIEW Shipper_Orders AS\u001b[0m\n\u001b[0m              ^\u001b[0m\n\u001b[0;31mSyntaxError\u001b[0m\u001b[0;31m:\u001b[0m invalid syntax\n"
          ]
        }
      ]
    },
    {
      "cell_type": "markdown",
      "source": [
        "54 orders were shipped by Speedy Express in total. I joined the Shippers and Orders tables on the variable of ShipperID and used COUNT to identify the number of orders from Speedy Express. "
      ],
      "metadata": {
        "id": "Vx_SaKK0YGv0"
      }
    },
    {
      "cell_type": "markdown",
      "source": [
        "b. What is the last name of the employee with the most orders?"
      ],
      "metadata": {
        "id": "nPn1u5kjYJ9A"
      }
    },
    {
      "cell_type": "code",
      "source": [
        "CREATE VIEW Employee_Orders AS \n",
        "SELECT Orders.EmployeeID, Employees.LastName, Orders.OrderID\n",
        "FROM Orders\n",
        "JOIN Employees\n",
        "ON Employees.EmployeeID=Orders.EmployeeID; \n",
        "\n",
        "SELECT LastName, COUNT(*)\n",
        "FROM Employee_Orders\n",
        "GROUP BY LastName\n",
        "ORDER BY COUNT(*) desc;"
      ],
      "metadata": {
        "id": "FXk9sejCZisH"
      },
      "execution_count": null,
      "outputs": []
    },
    {
      "cell_type": "markdown",
      "source": [
        "The last name of the employee with the most orders is Peacock (40 orders). "
      ],
      "metadata": {
        "id": "LgAsk4ibZjzi"
      }
    },
    {
      "cell_type": "markdown",
      "source": [
        "c. What product was ordered the most by customers in Germany?"
      ],
      "metadata": {
        "id": "fsBb6BlsZm6c"
      }
    },
    {
      "cell_type": "code",
      "source": [
        "SELECT ProductName\n",
        "FROM Products\n",
        "LEFT JOIN OrderDetails\n",
        "ON Products.ProductID = OrderDetails.ProductID \n",
        "LEFT JOIN Orders\n",
        "ON OrderDetails.OrderID = Orders.OrderID\n",
        "LEFT JOIN Customers\n",
        "ON Orders.CustomerID = Customers.CustomerID\n",
        "WHERE Country = 'Germany'\n",
        "GROUP BY OrderDetails.ProductID\n",
        "ORDER BY total_quantity DESC\n",
        "LIMIT 1;"
      ],
      "metadata": {
        "id": "1EZ98lXxZtFJ"
      },
      "execution_count": null,
      "outputs": []
    },
    {
      "cell_type": "markdown",
      "source": [
        "Boston Crab Meat was ordered the most by customers in Germany (160 orders). "
      ],
      "metadata": {
        "id": "-R9WW36YZtyH"
      }
    }
  ]
}