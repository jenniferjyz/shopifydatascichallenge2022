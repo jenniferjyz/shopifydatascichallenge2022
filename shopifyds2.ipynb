{
  "cells": [
    {
      "cell_type": "markdown",
      "metadata": {
        "id": "ckyJwjotXvrt"
      },
      "source": [
        "# Question 2\n",
        "\n",
        "a. How many orders were shipped by Speedy Express in total?"
      ]
    },
    {
      "cell_type": "markdown",
      "metadata": {
        "id": "g30mHGuXX6pz"
      },
      "source": [
        "b. What is the last name of the employee with the most orders?"
      ]
    },
    {
      "cell_type": "code",
      "execution_count": null,
      "metadata": {
        "colab": {
          "base_uri": "https://localhost:8080/",
          "height": 132
        },
        "id": "3oYBO-bbXz1W",
        "outputId": "3214bdd3-20bb-485a-88fe-b81287ec461f"
      },
      "outputs": [],
      "source": [
        "CREATE VIEW Shipper_Orders AS\n",
        "SELECT Orders.OrderID, Orders.ShipperID, Shippers.ShipperName\n",
        "FROM Orders \n",
        "JOIN Shippers\n",
        "ON Shippers.ShipperID=Orders.ShipperID;\n",
        "SELECT COUNT(*) FROM [Shipper_Orders]\n",
        "WHERE ShipperName = 'Speedy Express';"
      ]
    },
    {
      "cell_type": "markdown",
      "metadata": {
        "id": "Vx_SaKK0YGv0"
      },
      "source": [
        "54 orders were shipped by Speedy Express in total. I joined the Shippers and Orders tables on the variable of ShipperID and used COUNT to identify the number of orders from Speedy Express. "
      ]
    },
    {
      "cell_type": "markdown",
      "metadata": {
        "id": "nPn1u5kjYJ9A"
      },
      "source": [
        "b. What is the last name of the employee with the most orders?"
      ]
    },
    {
      "cell_type": "code",
      "execution_count": null,
      "metadata": {
        "id": "FXk9sejCZisH"
      },
      "outputs": [],
      "source": [
        "CREATE VIEW Employee_Orders AS \n",
        "SELECT Orders.EmployeeID, Employees.LastName, Orders.OrderID\n",
        "FROM Orders\n",
        "JOIN Employees\n",
        "ON Employees.EmployeeID=Orders.EmployeeID; \n",
        "\n",
        "SELECT LastName, COUNT(*)\n",
        "FROM Employee_Orders\n",
        "GROUP BY LastName\n",
        "ORDER BY COUNT(*) desc;"
      ]
    },
    {
      "cell_type": "markdown",
      "metadata": {
        "id": "LgAsk4ibZjzi"
      },
      "source": [
        "The last name of the employee with the most orders is Peacock (40 orders). "
      ]
    },
    {
      "cell_type": "markdown",
      "metadata": {
        "id": "fsBb6BlsZm6c"
      },
      "source": [
        "c. What product was ordered the most by customers in Germany?"
      ]
    },
    {
      "cell_type": "code",
      "execution_count": null,
      "metadata": {
        "id": "1EZ98lXxZtFJ"
      },
      "outputs": [],
      "source": [
        "SELECT ProductName\n",
        "FROM Products\n",
        "LEFT JOIN OrderDetails\n",
        "ON Products.ProductID = OrderDetails.ProductID \n",
        "LEFT JOIN Orders\n",
        "ON OrderDetails.OrderID = Orders.OrderID\n",
        "LEFT JOIN Customers\n",
        "ON Orders.CustomerID = Customers.CustomerID\n",
        "WHERE Country = 'Germany'\n",
        "GROUP BY OrderDetails.ProductID\n",
        "ORDER BY total_quantity DESC\n",
        "LIMIT 1;"
      ]
    },
    {
      "cell_type": "markdown",
      "metadata": {
        "id": "-R9WW36YZtyH"
      },
      "source": [
        "Boston Crab Meat was ordered the most by customers in Germany (160 orders). "
      ]
    }
  ],
  "metadata": {
    "colab": {
      "name": "Untitled0.ipynb",
      "provenance": []
    },
    "kernelspec": {
      "display_name": "Python 3",
      "name": "python3"
    },
    "language_info": {
      "name": "python"
    }
  },
  "nbformat": 4,
  "nbformat_minor": 0
}
